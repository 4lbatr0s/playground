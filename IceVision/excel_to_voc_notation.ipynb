{
 "cells": [
  {
   "cell_type": "code",
   "execution_count": 25,
   "metadata": {},
   "outputs": [
    {
     "name": "stdout",
     "output_type": "stream",
     "text": [
      "160,248-176,260\n"
     ]
    }
   ],
   "source": [
    "import pandas as pd\n",
    "from xml.etree.ElementTree import Element, SubElement, ElementTree\n",
    "from xml.dom import minidom\n",
    "from lxml.etree import tostring\n",
    "\n",
    "import xml.etree.ElementTree as ET\n",
    "from xml.dom import minidom\n",
    "\n",
    "# Read the xlsx file\n",
    "df = pd.read_excel('/home/serhatoner/Coding/playground/IceVision/Data.xlsx')\n",
    "\n",
    "# Iterate over each row in the dataframe\n",
    "for i, row in df[:2].iterrows():\n",
    "    if pd.isna(row[\"koordinatlar\"]):\n",
    "        continue\n",
    "    else:\n",
    "        print(row[\"koordinatlar\"])\n",
    "        annotation = Element(\"annotation\")\n",
    "        folder = SubElement(annotation, \"folder\")\n",
    "        folder.text = row[\"olgu_numarasi\"]\n",
    "        filename = SubElement(annotation, \"filename\")\n",
    "        filename.text = str(row[\"kesit_numarasi\"]) + \".png\"\n",
    "        size = SubElement(annotation, \"size\")\n",
    "        width = SubElement(size, \"width\")\n",
    "        width.text = \"800\"\n",
    "        height = SubElement(size, \"height\")\n",
    "        height.text = \"598\"\n",
    "        depth = SubElement(size, \"depth\")\n",
    "        depth.text = \"3\"\n",
    "        object = SubElement(annotation, \"object\")\n",
    "        name = SubElement(object, \"name\")\n",
    "        name.text = row[\"sinif\"]\n",
    "        bndbox = SubElement(object, \"bndbox\")\n",
    "        xmin = SubElement(bndbox, \"xmin\")                     \n",
    "        xmin.text = str(row[\"koordinatlar\"]).split(\"-\")[0].split(\",\")[0]\n",
    "        ymin = SubElement(bndbox, \"ymin\")\n",
    "        ymin.text = str(row[\"koordinatlar\"]).split(\"-\")[1].split(\",\")[1]\n",
    "        xmax = SubElement(bndbox, \"xmax\")\n",
    "        xmax.text = str(row[\"koordinatlar\"]).split(\"-\")[1].split(\",\")[0]\n",
    "        ymax = SubElement(bndbox, \"ymax\")\n",
    "        ymax.text = str(row[\"koordinatlar\"]).split(\"-\")[1].split(\",\")[1]\n",
    "    \n",
    "        # Write the xml file\n",
    "    # ElementTree(annotation).write(str(row[\"kesit_numarasi\"]) + \".xml\")\n",
    "    xml_str = ET.tostring(annotation, encoding='utf-8')\n",
    "    xml_str = minidom.parseString(xml_str).toprettyxml(indent='  ')\n",
    "    with open(str(row[\"kesit_numarasi\"]) + \".xml\", \"w\") as f:\n",
    "        f.write(xml_str)"
   ]
  },
  {
   "cell_type": "code",
   "execution_count": null,
   "metadata": {},
   "outputs": [],
   "source": []
  }
 ],
 "metadata": {
  "kernelspec": {
   "display_name": "Python 3",
   "language": "python",
   "name": "python3"
  },
  "language_info": {
   "codemirror_mode": {
    "name": "ipython",
    "version": 3
   },
   "file_extension": ".py",
   "mimetype": "text/x-python",
   "name": "python",
   "nbconvert_exporter": "python",
   "pygments_lexer": "ipython3",
   "version": "3.10.6"
  },
  "orig_nbformat": 4,
  "vscode": {
   "interpreter": {
    "hash": "31f2aee4e71d21fbe5cf8b01ff0e069b9275f58929596ceb00d14d90e3e16cd6"
   }
  }
 },
 "nbformat": 4,
 "nbformat_minor": 2
}
